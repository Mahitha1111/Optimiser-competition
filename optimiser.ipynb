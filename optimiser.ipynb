{
 "cells": [
  {
   "cell_type": "code",
   "execution_count": 1,
   "id": "fe0ee545",
   "metadata": {},
   "outputs": [
    {
     "name": "stdout",
     "output_type": "stream",
     "text": [
      "Requirement already satisfied: nevergrad in c:\\users\\hp\\anaconda3\\lib\\site-packages (0.4.3.post9)\n",
      "Requirement already satisfied: numpy>=1.15.0 in c:\\users\\hp\\anaconda3\\lib\\site-packages (from nevergrad) (1.20.1)\n",
      "Requirement already satisfied: cma>=2.6.0 in c:\\users\\hp\\anaconda3\\lib\\site-packages (from nevergrad) (3.1.0)\n",
      "Requirement already satisfied: typing-extensions>=3.6.6 in c:\\users\\hp\\anaconda3\\lib\\site-packages (from nevergrad) (3.7.4.3)\n",
      "Requirement already satisfied: bayesian-optimization>=1.2.0 in c:\\users\\hp\\anaconda3\\lib\\site-packages (from nevergrad) (1.2.0)\n",
      "Requirement already satisfied: scikit-learn>=0.18.0 in c:\\users\\hp\\anaconda3\\lib\\site-packages (from bayesian-optimization>=1.2.0->nevergrad) (0.24.1)\n",
      "Requirement already satisfied: scipy>=0.14.0 in c:\\users\\hp\\anaconda3\\lib\\site-packages (from bayesian-optimization>=1.2.0->nevergrad) (1.6.2)\n",
      "Requirement already satisfied: joblib>=0.11 in c:\\users\\hp\\anaconda3\\lib\\site-packages (from scikit-learn>=0.18.0->bayesian-optimization>=1.2.0->nevergrad) (1.0.1)\n",
      "Requirement already satisfied: threadpoolctl>=2.0.0 in c:\\users\\hp\\anaconda3\\lib\\site-packages (from scikit-learn>=0.18.0->bayesian-optimization>=1.2.0->nevergrad) (2.1.0)\n",
      "Note: you may need to restart the kernel to use updated packages.\n"
     ]
    },
    {
     "name": "stderr",
     "output_type": "stream",
     "text": [
      "WARNING: You are using pip version 21.3.1; however, version 23.3.1 is available.\n",
      "You should consider upgrading via the 'C:\\Users\\Hp\\anaconda3\\python.exe -m pip install --upgrade pip' command.\n"
     ]
    }
   ],
   "source": [
    "pip install nevergrad\n"
   ]
  },
  {
   "cell_type": "code",
   "execution_count": 2,
   "id": "a05d1f95",
   "metadata": {},
   "outputs": [],
   "source": [
    "import numpy as np"
   ]
  },
  {
   "cell_type": "code",
   "execution_count": 3,
   "id": "e89aa0ab",
   "metadata": {},
   "outputs": [],
   "source": [
    "def myfun(x,y):\n",
    "    return (x-270)**2 + (y-53)**2 + x*y + random.random()"
   ]
  },
  {
   "cell_type": "code",
   "execution_count": 4,
   "id": "4381848d",
   "metadata": {},
   "outputs": [],
   "source": [
    "import nevergrad as ng\n",
    "params = ng.p.Instrumentation(\n",
    "    x=ng.p.Array(shape=(1,),lower=250,upper=300),\n",
    "    y=ng.p.Array(shape=(1,),lower=50,upper=60)\n",
    ")"
   ]
  },
  {
   "cell_type": "code",
   "execution_count": 5,
   "id": "7bfec34a",
   "metadata": {},
   "outputs": [],
   "source": [
    "optimizer = ng.optimizers.NGOpt(parametrization=params, budget=20, num_workers=1)"
   ]
  },
  {
   "cell_type": "code",
   "execution_count": 6,
   "id": "4c0dac92",
   "metadata": {},
   "outputs": [],
   "source": [
    "algos = sorted(ng.optimizers.registry.keys())"
   ]
  },
  {
   "cell_type": "code",
   "execution_count": 7,
   "id": "7e2a7dfd",
   "metadata": {},
   "outputs": [
    {
     "data": {
      "text/plain": [
       "['ASCMADEthird',\n",
       " 'AdaptiveDiscreteOnePlusOne',\n",
       " 'AlmostRotationInvariantDE',\n",
       " 'AnisotropicAdaptiveDiscreteOnePlusOne',\n",
       " 'AvgMetaRecenteringNoHull',\n",
       " 'BO',\n",
       " 'BOSplit',\n",
       " 'BayesOptimBO',\n",
       " 'CM',\n",
       " 'CMA',\n",
       " 'CMandAS2',\n",
       " 'CMandAS3',\n",
       " 'CauchyLHSSearch',\n",
       " 'CauchyOnePlusOne',\n",
       " 'CauchyScrHammersleySearch',\n",
       " 'ChainCMAPowell',\n",
       " 'ChainDiagonalCMAPowell',\n",
       " 'ChainMetaModelPowell',\n",
       " 'ChainMetaModelSQP',\n",
       " 'ChainNaiveTBPSACMAPowell',\n",
       " 'ChainNaiveTBPSAPowell',\n",
       " 'Cobyla',\n",
       " 'DE',\n",
       " 'DiagonalCMA',\n",
       " 'DiscreteBSOOnePlusOne',\n",
       " 'DiscreteDoerrOnePlusOne',\n",
       " 'DiscreteLenglerOnePlusOne',\n",
       " 'DiscreteOnePlusOne',\n",
       " 'DoubleFastGADiscreteOnePlusOne',\n",
       " 'EDA',\n",
       " 'ES',\n",
       " 'FCMA',\n",
       " 'GeneticDE',\n",
       " 'HaltonSearch',\n",
       " 'HaltonSearchPlusMiddlePoint',\n",
       " 'HammersleySearch',\n",
       " 'HammersleySearchPlusMiddlePoint',\n",
       " 'HullAvgMetaRecentering',\n",
       " 'HullAvgMetaTuneRecentering',\n",
       " 'LHSSearch',\n",
       " 'LargeHaltonSearch',\n",
       " 'LhsDE',\n",
       " 'MetaModel',\n",
       " 'MetaModelOnePlusOne',\n",
       " 'MetaRecentering',\n",
       " 'MetaTuneRecentering',\n",
       " 'MixES',\n",
       " 'MultiCMA',\n",
       " 'MultiDiscrete',\n",
       " 'MultiScaleCMA',\n",
       " 'MutDE',\n",
       " 'NGO',\n",
       " 'NGOpt',\n",
       " 'NGOpt10',\n",
       " 'NGOpt12',\n",
       " 'NGOpt13',\n",
       " 'NGOpt14',\n",
       " 'NGOpt15',\n",
       " 'NGOpt16',\n",
       " 'NGOpt21',\n",
       " 'NGOpt36',\n",
       " 'NGOpt38',\n",
       " 'NGOpt4',\n",
       " 'NGOpt8',\n",
       " 'NGOptBase',\n",
       " 'NaiveIsoEMNA',\n",
       " 'NaiveTBPSA',\n",
       " 'NelderMead',\n",
       " 'NoisyBandit',\n",
       " 'NoisyDE',\n",
       " 'NoisyDiscreteOnePlusOne',\n",
       " 'NoisyOnePlusOne',\n",
       " 'NonNSGAIIES',\n",
       " 'ORandomSearch',\n",
       " 'OScrHammersleySearch',\n",
       " 'OnePlusOne',\n",
       " 'OptimisticDiscreteOnePlusOne',\n",
       " 'OptimisticNoisyOnePlusOne',\n",
       " 'PCABO',\n",
       " 'PSO',\n",
       " 'ParaPortfolio',\n",
       " 'PolyCMA',\n",
       " 'Portfolio',\n",
       " 'PortfolioDiscreteOnePlusOne',\n",
       " 'Powell',\n",
       " 'PymooNSGA2',\n",
       " 'QORandomSearch',\n",
       " 'QOScrHammersleySearch',\n",
       " 'QrDE',\n",
       " 'RCobyla',\n",
       " 'RPowell',\n",
       " 'RSQP',\n",
       " 'RandomSearch',\n",
       " 'RandomSearchPlusMiddlePoint',\n",
       " 'RealSpacePSO',\n",
       " 'RecES',\n",
       " 'RecMixES',\n",
       " 'RecMutDE',\n",
       " 'RecombiningPortfolioDiscreteOnePlusOne',\n",
       " 'RecombiningPortfolioOptimisticNoisyDiscreteOnePlusOne',\n",
       " 'RescaledCMA',\n",
       " 'RotatedTwoPointsDE',\n",
       " 'RotationInvariantDE',\n",
       " 'SPSA',\n",
       " 'SQP',\n",
       " 'SQPCMA',\n",
       " 'ScrHaltonSearch',\n",
       " 'ScrHaltonSearchPlusMiddlePoint',\n",
       " 'ScrHammersleySearch',\n",
       " 'ScrHammersleySearchPlusMiddlePoint',\n",
       " 'Shiwa',\n",
       " 'SparseDoubleFastGADiscreteOnePlusOne',\n",
       " 'TBPSA',\n",
       " 'TripleCMA',\n",
       " 'TwoPointsDE',\n",
       " 'cGA']"
      ]
     },
     "execution_count": 7,
     "metadata": {},
     "output_type": "execute_result"
    }
   ],
   "source": [
    "algos"
   ]
  },
  {
   "cell_type": "code",
   "execution_count": 8,
   "id": "97f85197",
   "metadata": {
    "scrolled": true
   },
   "outputs": [
    {
     "name": "stderr",
     "output_type": "stream",
     "text": [
      "C:\\Users\\Hp\\anaconda3\\lib\\site-packages\\nevergrad\\optimization\\differentialevolution.py:106: InefficientSettingsWarning: DE algorithms are inefficient with budget < 60\n",
      "  warnings.warn(\n",
      "C:\\Users\\Hp\\anaconda3\\lib\\site-packages\\nevergrad\\optimization\\differentialevolution.py:106: InefficientSettingsWarning: DE algorithms are inefficient with budget < 60\n",
      "  warnings.warn(\n",
      "C:\\Users\\Hp\\anaconda3\\lib\\site-packages\\nevergrad\\optimization\\es.py:30: InefficientSettingsWarning: ES algorithms are inefficient with budget < 60\n",
      "  warnings.warn(\n",
      "C:\\Users\\Hp\\anaconda3\\lib\\site-packages\\nevergrad\\optimization\\es.py:30: InefficientSettingsWarning: ES algorithms are inefficient with budget < 60\n",
      "  warnings.warn(\n",
      "C:\\Users\\Hp\\anaconda3\\lib\\site-packages\\nevergrad\\optimization\\differentialevolution.py:106: InefficientSettingsWarning: DE algorithms are inefficient with budget < 60\n",
      "  warnings.warn(\n",
      "C:\\Users\\Hp\\anaconda3\\lib\\site-packages\\nevergrad\\optimization\\optimizerlib.py:2235: InefficientSettingsWarning: Budget may be too small in front of the dimension for EMNA\n",
      "  warnings.warn(\n",
      "C:\\Users\\Hp\\anaconda3\\lib\\site-packages\\nevergrad\\optimization\\optimizerlib.py:828: InefficientSettingsWarning: PSO is inefficient with budget < 60\n",
      "  warnings.warn(\"PSO is inefficient with budget < 60\", errors.InefficientSettingsWarning)\n",
      "C:\\Users\\Hp\\anaconda3\\lib\\site-packages\\nevergrad\\optimization\\recastlib.py:173: NevergradRuntimeWarning: with this optimizer, it is more efficient to set num_objectives before the optimization begins\n",
      "  warnings.warn(\n",
      "C:\\Users\\Hp\\anaconda3\\lib\\site-packages\\nevergrad\\optimization\\optimizerlib.py:828: InefficientSettingsWarning: PSO is inefficient with budget < 60\n",
      "  warnings.warn(\"PSO is inefficient with budget < 60\", errors.InefficientSettingsWarning)\n",
      "C:\\Users\\Hp\\anaconda3\\lib\\site-packages\\nevergrad\\optimization\\es.py:30: InefficientSettingsWarning: ES algorithms are inefficient with budget < 60\n",
      "  warnings.warn(\n",
      "C:\\Users\\Hp\\anaconda3\\lib\\site-packages\\nevergrad\\optimization\\differentialevolution.py:106: InefficientSettingsWarning: DE algorithms are inefficient with budget < 60\n",
      "  warnings.warn(\n"
     ]
    }
   ],
   "source": [
    "for algo in algos:\n",
    "    try:\n",
    "        optimizer = ng.optimizers.registry[algo](parametrization=params, budget=15, num_workers=1)\n",
    "        for _ in range(optimizer.budget):\n",
    "            x = optimizer.ask()\n",
    "            loss = myfun(*x.args, **x.kwargs)\n",
    "            optimizer.tell(x, loss)\n",
    "\n",
    "        recommendation = optimizer.provide_recommendation()\n",
    "\n",
    "        x_opt = recommendation.value[1]['x']\n",
    "        y_opt = recommendation.value[1]['y']\n",
    "        if myfun(x_opt,y_opt)<1:\n",
    "            print('Algo',algo,' Score:',myfun(x_opt,y_opt),' x:',x_opt,' y:',y_opt)\n",
    "    except:\n",
    "        continue"
   ]
  },
  {
   "cell_type": "code",
   "execution_count": 9,
   "id": "7341de44",
   "metadata": {
    "scrolled": true
   },
   "outputs": [
    {
     "ename": "NameError",
     "evalue": "name 'random' is not defined",
     "output_type": "error",
     "traceback": [
      "\u001b[1;31m---------------------------------------------------------------------------\u001b[0m",
      "\u001b[1;31mNameError\u001b[0m                                 Traceback (most recent call last)",
      "\u001b[1;32m<ipython-input-9-b4fe1333bad1>\u001b[0m in \u001b[0;36m<module>\u001b[1;34m\u001b[0m\n\u001b[0;32m      8\u001b[0m     \u001b[0mx\u001b[0m \u001b[1;33m=\u001b[0m \u001b[0moptimizer\u001b[0m\u001b[1;33m.\u001b[0m\u001b[0mask\u001b[0m\u001b[1;33m(\u001b[0m\u001b[1;33m)\u001b[0m\u001b[1;33m\u001b[0m\u001b[1;33m\u001b[0m\u001b[0m\n\u001b[0;32m      9\u001b[0m \u001b[1;33m\u001b[0m\u001b[0m\n\u001b[1;32m---> 10\u001b[1;33m     \u001b[0mloss\u001b[0m \u001b[1;33m=\u001b[0m \u001b[0mmyfun\u001b[0m\u001b[1;33m(\u001b[0m\u001b[1;33m*\u001b[0m\u001b[0mx\u001b[0m\u001b[1;33m.\u001b[0m\u001b[0margs\u001b[0m\u001b[1;33m,\u001b[0m \u001b[1;33m**\u001b[0m\u001b[0mx\u001b[0m\u001b[1;33m.\u001b[0m\u001b[0mkwargs\u001b[0m\u001b[1;33m)\u001b[0m\u001b[1;33m.\u001b[0m\u001b[0mastype\u001b[0m\u001b[1;33m(\u001b[0m\u001b[0mnp\u001b[0m\u001b[1;33m.\u001b[0m\u001b[0mfloat64\u001b[0m\u001b[1;33m)\u001b[0m\u001b[1;33m\u001b[0m\u001b[1;33m\u001b[0m\u001b[0m\n\u001b[0m\u001b[0;32m     11\u001b[0m     \u001b[0mprint\u001b[0m\u001b[1;33m(\u001b[0m\u001b[0mi\u001b[0m\u001b[1;33m,\u001b[0m\u001b[0mx\u001b[0m\u001b[1;33m.\u001b[0m\u001b[0mvalue\u001b[0m\u001b[1;33m[\u001b[0m\u001b[1;36m1\u001b[0m\u001b[1;33m]\u001b[0m\u001b[1;33m[\u001b[0m\u001b[1;34m'x'\u001b[0m\u001b[1;33m]\u001b[0m\u001b[1;33m,\u001b[0m\u001b[0mx\u001b[0m\u001b[1;33m.\u001b[0m\u001b[0mvalue\u001b[0m\u001b[1;33m[\u001b[0m\u001b[1;36m1\u001b[0m\u001b[1;33m]\u001b[0m\u001b[1;33m[\u001b[0m\u001b[1;34m'y'\u001b[0m\u001b[1;33m]\u001b[0m\u001b[1;33m,\u001b[0m\u001b[0mloss\u001b[0m\u001b[1;33m)\u001b[0m\u001b[1;33m\u001b[0m\u001b[1;33m\u001b[0m\u001b[0m\n\u001b[0;32m     12\u001b[0m     \u001b[0moptimizer\u001b[0m\u001b[1;33m.\u001b[0m\u001b[0mtell\u001b[0m\u001b[1;33m(\u001b[0m\u001b[0mx\u001b[0m\u001b[1;33m,\u001b[0m \u001b[0mloss\u001b[0m\u001b[1;33m)\u001b[0m\u001b[1;33m\u001b[0m\u001b[1;33m\u001b[0m\u001b[0m\n",
      "\u001b[1;32m<ipython-input-3-742072e34a5f>\u001b[0m in \u001b[0;36mmyfun\u001b[1;34m(x, y)\u001b[0m\n\u001b[0;32m      1\u001b[0m \u001b[1;32mdef\u001b[0m \u001b[0mmyfun\u001b[0m\u001b[1;33m(\u001b[0m\u001b[0mx\u001b[0m\u001b[1;33m,\u001b[0m\u001b[0my\u001b[0m\u001b[1;33m)\u001b[0m\u001b[1;33m:\u001b[0m\u001b[1;33m\u001b[0m\u001b[1;33m\u001b[0m\u001b[0m\n\u001b[1;32m----> 2\u001b[1;33m     \u001b[1;32mreturn\u001b[0m \u001b[1;33m(\u001b[0m\u001b[0mx\u001b[0m\u001b[1;33m-\u001b[0m\u001b[1;36m270\u001b[0m\u001b[1;33m)\u001b[0m\u001b[1;33m**\u001b[0m\u001b[1;36m2\u001b[0m \u001b[1;33m+\u001b[0m \u001b[1;33m(\u001b[0m\u001b[0my\u001b[0m\u001b[1;33m-\u001b[0m\u001b[1;36m53\u001b[0m\u001b[1;33m)\u001b[0m\u001b[1;33m**\u001b[0m\u001b[1;36m2\u001b[0m \u001b[1;33m+\u001b[0m \u001b[0mx\u001b[0m\u001b[1;33m*\u001b[0m\u001b[0my\u001b[0m \u001b[1;33m+\u001b[0m \u001b[0mrandom\u001b[0m\u001b[1;33m.\u001b[0m\u001b[0mrandom\u001b[0m\u001b[1;33m(\u001b[0m\u001b[1;33m)\u001b[0m\u001b[1;33m\u001b[0m\u001b[1;33m\u001b[0m\u001b[0m\n\u001b[0m",
      "\u001b[1;31mNameError\u001b[0m: name 'random' is not defined"
     ]
    }
   ],
   "source": [
    "algo = 'MetaModelOnePlusOne'\n",
    "# algo = 'Cobyla'\n",
    "optimizer = ng.optimizers.registry[algo](parametrization=params, budget=20, num_workers=1)\n",
    "# optimizer.suggest(x=[250],y=[50])\n",
    "# optimizer = ng.optimizers.ParametrizedMetaModel(multivariate_optimizer=ng.optimizers.MixES)(parametrization=params, budget=20, num_workers=1)\n",
    "for i in range(optimizer.budget):\n",
    "    \n",
    "    x = optimizer.ask()\n",
    "    \n",
    "    loss = myfun(*x.args, **x.kwargs).astype(np.float64)\n",
    "    print(i,x.value[1]['x'],x.value[1]['y'],loss)\n",
    "    optimizer.tell(x, loss)\n",
    "\n",
    "recommendation = optimizer.provide_recommendation()\n",
    "\n",
    "x_opt = recommendation.value[1]['x']\n",
    "y_opt = recommendation.value[1]['y']\n",
    "\n",
    "print('Algo',algo,' Score:',myfun(x_opt,y_opt),' x:',x_opt,' y:',y_opt)"
   ]
  },
  {
   "cell_type": "code",
   "execution_count": null,
   "id": "5948fc7b",
   "metadata": {},
   "outputs": [],
   "source": []
  },
  {
   "cell_type": "code",
   "execution_count": null,
   "id": "658eb15e",
   "metadata": {},
   "outputs": [],
   "source": []
  },
  {
   "cell_type": "code",
   "execution_count": null,
   "id": "39f88caa",
   "metadata": {},
   "outputs": [],
   "source": []
  },
  {
   "cell_type": "code",
   "execution_count": null,
   "id": "de43ebff",
   "metadata": {},
   "outputs": [],
   "source": []
  },
  {
   "cell_type": "code",
   "execution_count": null,
   "id": "de0a726b",
   "metadata": {},
   "outputs": [],
   "source": []
  }
 ],
 "metadata": {
  "kernelspec": {
   "display_name": "Python 3",
   "language": "python",
   "name": "python3"
  },
  "language_info": {
   "codemirror_mode": {
    "name": "ipython",
    "version": 3
   },
   "file_extension": ".py",
   "mimetype": "text/x-python",
   "name": "python",
   "nbconvert_exporter": "python",
   "pygments_lexer": "ipython3",
   "version": "3.8.8"
  }
 },
 "nbformat": 4,
 "nbformat_minor": 5
}
